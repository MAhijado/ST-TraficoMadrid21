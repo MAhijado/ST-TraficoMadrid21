{
 "cells": [
  {
   "cell_type": "markdown",
   "metadata": {},
   "source": [
    "### Atributos de Archivos de datos recopilados. Tráfico de Madrid.\n"
   ]
  },
  {
   "cell_type": "code",
   "execution_count": 3,
   "metadata": {},
   "outputs": [],
   "source": [
    "## revisamos los atributos de los datos. Trafico de Madrid.\n",
    "import pandas as pd\n",
    "import numpy as np\n",
    "%matplotlib inline"
   ]
  },
  {
   "cell_type": "code",
   "execution_count": 8,
   "metadata": {},
   "outputs": [
    {
     "data": {
      "text/html": [
       "<div>\n",
       "<style scoped>\n",
       "    .dataframe tbody tr th:only-of-type {\n",
       "        vertical-align: middle;\n",
       "    }\n",
       "\n",
       "    .dataframe tbody tr th {\n",
       "        vertical-align: top;\n",
       "    }\n",
       "\n",
       "    .dataframe thead th {\n",
       "        text-align: right;\n",
       "    }\n",
       "</style>\n",
       "<table border=\"1\" class=\"dataframe\">\n",
       "  <thead>\n",
       "    <tr style=\"text-align: right;\">\n",
       "      <th></th>\n",
       "      <th>FDIA</th>\n",
       "      <th>ID</th>\n",
       "    </tr>\n",
       "  </thead>\n",
       "  <tbody>\n",
       "    <tr>\n",
       "      <th>0</th>\n",
       "      <td>2020-01-01</td>\n",
       "      <td>1700376.0</td>\n",
       "    </tr>\n",
       "    <tr>\n",
       "      <th>1</th>\n",
       "      <td>2020-01-02</td>\n",
       "      <td>2878926.0</td>\n",
       "    </tr>\n",
       "    <tr>\n",
       "      <th>2</th>\n",
       "      <td>2020-01-03</td>\n",
       "      <td>2734260.0</td>\n",
       "    </tr>\n",
       "    <tr>\n",
       "      <th>3</th>\n",
       "      <td>2020-01-04</td>\n",
       "      <td>2189156.0</td>\n",
       "    </tr>\n",
       "    <tr>\n",
       "      <th>4</th>\n",
       "      <td>2020-01-05</td>\n",
       "      <td>1792834.0</td>\n",
       "    </tr>\n",
       "  </tbody>\n",
       "</table>\n",
       "</div>"
      ],
      "text/plain": [
       "         FDIA         ID\n",
       "0  2020-01-01  1700376.0\n",
       "1  2020-01-02  2878926.0\n",
       "2  2020-01-03  2734260.0\n",
       "3  2020-01-04  2189156.0\n",
       "4  2020-01-05  1792834.0"
      ]
     },
     "execution_count": 8,
     "metadata": {},
     "output_type": "execute_result"
    }
   ],
   "source": [
    "# leemos el archivo 1.\n",
    "datos = pd.read_csv('TrafMadridintM30.csv')\n",
    "datos.head()"
   ]
  },
  {
   "cell_type": "code",
   "execution_count": 9,
   "metadata": {},
   "outputs": [],
   "source": [
    "def descripcionDatosDataset(datos):\n",
    "    print(\"Cantidad de filas:\", datos.shape[0])\n",
    "    print(\"Cantidad de columnas:\", datos.shape[1])\n",
    "    print('-'*100)\n",
    "    for columna in datos.columns:\n",
    "        valoresDescripcion = ''\n",
    "        tipo = ''\n",
    "        if datos[columna].dtype == 'float64' or datos[columna].dtype == 'int64':\n",
    "            tipo = 'numérico'\n",
    "            valoresDescripcion = datos[columna].agg(['min', 'max', 'mean', 'std', 'median'])\n",
    "        else:\n",
    "            tipo = 'nominal' #categórico | string | no-numérico\n",
    "            valoresDescripcion = {'valoresPresentes' : datos[columna].unique(), \n",
    "                                  'cantidadNulos' : datos[columna].isna().sum()}\n",
    "                                 #'conteoValores' : pd.value_counts(datos[columna])}\n",
    "        print('Columna: ' + columna)\n",
    "        print('Tipo de datos: ' + tipo)\n",
    "        print('Descripción de valores:')\n",
    "        if tipo == 'numérico':\n",
    "            print(valoresDescripcion)\n",
    "        else:\n",
    "            print('-- Valores presentes (10 primeros): ' + str(valoresDescripcion['valoresPresentes'][:10]))\n",
    "            pctNulos = (valoresDescripcion['cantidadNulos'] / datos.shape[0]) * 100\n",
    "            print('-- Cantidad de nulos: ' + str(valoresDescripcion['cantidadNulos']) + ' = ' + \"{0:.2f}\".format(pctNulos) + '%')\n",
    "        print('-'*100)"
   ]
  },
  {
   "cell_type": "code",
   "execution_count": 10,
   "metadata": {},
   "outputs": [
    {
     "name": "stdout",
     "output_type": "stream",
     "text": [
      "Cantidad de filas: 578\n",
      "Cantidad de columnas: 2\n",
      "----------------------------------------------------------------------------------------------------\n",
      "Columna: FDIA\n",
      "Tipo de datos: nominal\n",
      "Descripción de valores:\n",
      "-- Valores presentes (10 primeros): ['2020-01-01' '2020-01-02' '2020-01-03' '2020-01-04' '2020-01-05'\n",
      " '2020-01-06' '2020-01-07' '2020-01-08' '2020-01-09' '2020-01-10']\n",
      "-- Cantidad de nulos: 0 = 0.00%\n",
      "----------------------------------------------------------------------------------------------------\n",
      "Columna: ID\n",
      "Tipo de datos: numérico\n",
      "Descripción de valores:\n",
      "min       5.928900e+04\n",
      "max       3.236100e+06\n",
      "mean      1.083754e+06\n",
      "std       5.491462e+05\n",
      "median    1.133201e+06\n",
      "Name: ID, dtype: float64\n",
      "----------------------------------------------------------------------------------------------------\n"
     ]
    }
   ],
   "source": [
    "descripcionDatosDataset(datos)"
   ]
  },
  {
   "cell_type": "code",
   "execution_count": 13,
   "metadata": {},
   "outputs": [
    {
     "data": {
      "text/html": [
       "<div>\n",
       "<style scoped>\n",
       "    .dataframe tbody tr th:only-of-type {\n",
       "        vertical-align: middle;\n",
       "    }\n",
       "\n",
       "    .dataframe tbody tr th {\n",
       "        vertical-align: top;\n",
       "    }\n",
       "\n",
       "    .dataframe thead th {\n",
       "        text-align: right;\n",
       "    }\n",
       "</style>\n",
       "<table border=\"1\" class=\"dataframe\">\n",
       "  <thead>\n",
       "    <tr style=\"text-align: right;\">\n",
       "      <th></th>\n",
       "      <th>FDIA</th>\n",
       "      <th>ID</th>\n",
       "    </tr>\n",
       "  </thead>\n",
       "  <tbody>\n",
       "    <tr>\n",
       "      <th>0</th>\n",
       "      <td>2020-01-01</td>\n",
       "      <td>390716.0</td>\n",
       "    </tr>\n",
       "    <tr>\n",
       "      <th>1</th>\n",
       "      <td>2020-01-02</td>\n",
       "      <td>638514.0</td>\n",
       "    </tr>\n",
       "    <tr>\n",
       "      <th>2</th>\n",
       "      <td>2020-01-03</td>\n",
       "      <td>592706.0</td>\n",
       "    </tr>\n",
       "    <tr>\n",
       "      <th>3</th>\n",
       "      <td>2020-01-04</td>\n",
       "      <td>457556.0</td>\n",
       "    </tr>\n",
       "    <tr>\n",
       "      <th>4</th>\n",
       "      <td>2020-01-05</td>\n",
       "      <td>406504.0</td>\n",
       "    </tr>\n",
       "  </tbody>\n",
       "</table>\n",
       "</div>"
      ],
      "text/plain": [
       "         FDIA        ID\n",
       "0  2020-01-01  390716.0\n",
       "1  2020-01-02  638514.0\n",
       "2  2020-01-03  592706.0\n",
       "3  2020-01-04  457556.0\n",
       "4  2020-01-05  406504.0"
      ]
     },
     "execution_count": 13,
     "metadata": {},
     "output_type": "execute_result"
    }
   ],
   "source": [
    "# leemos el archivo 2.\n",
    "datos = pd.read_csv('TrafMadridM30M40.csv')\n",
    "datos.head()"
   ]
  },
  {
   "cell_type": "code",
   "execution_count": 14,
   "metadata": {},
   "outputs": [
    {
     "name": "stdout",
     "output_type": "stream",
     "text": [
      "Cantidad de filas: 578\n",
      "Cantidad de columnas: 2\n",
      "----------------------------------------------------------------------------------------------------\n",
      "Columna: FDIA\n",
      "Tipo de datos: nominal\n",
      "Descripción de valores:\n",
      "-- Valores presentes (10 primeros): ['2020-01-01' '2020-01-02' '2020-01-03' '2020-01-04' '2020-01-05'\n",
      " '2020-01-06' '2020-01-07' '2020-01-08' '2020-01-09' '2020-01-10']\n",
      "-- Cantidad de nulos: 0 = 0.00%\n",
      "----------------------------------------------------------------------------------------------------\n",
      "Columna: ID\n",
      "Tipo de datos: numérico\n",
      "Descripción de valores:\n",
      "min        31985.000000\n",
      "max       661384.000000\n",
      "mean      248683.512111\n",
      "std       117360.246840\n",
      "median    256471.500000\n",
      "Name: ID, dtype: float64\n",
      "----------------------------------------------------------------------------------------------------\n"
     ]
    }
   ],
   "source": [
    "descripcionDatosDataset(datos)"
   ]
  },
  {
   "cell_type": "code",
   "execution_count": 16,
   "metadata": {},
   "outputs": [
    {
     "data": {
      "text/html": [
       "<div>\n",
       "<style scoped>\n",
       "    .dataframe tbody tr th:only-of-type {\n",
       "        vertical-align: middle;\n",
       "    }\n",
       "\n",
       "    .dataframe tbody tr th {\n",
       "        vertical-align: top;\n",
       "    }\n",
       "\n",
       "    .dataframe thead th {\n",
       "        text-align: right;\n",
       "    }\n",
       "</style>\n",
       "<table border=\"1\" class=\"dataframe\">\n",
       "  <thead>\n",
       "    <tr style=\"text-align: right;\">\n",
       "      <th></th>\n",
       "      <th>FDIA</th>\n",
       "      <th>ID</th>\n",
       "    </tr>\n",
       "  </thead>\n",
       "  <tbody>\n",
       "    <tr>\n",
       "      <th>0</th>\n",
       "      <td>2020-01-01</td>\n",
       "      <td>2850036.0</td>\n",
       "    </tr>\n",
       "    <tr>\n",
       "      <th>1</th>\n",
       "      <td>2020-01-02</td>\n",
       "      <td>4552200.0</td>\n",
       "    </tr>\n",
       "    <tr>\n",
       "      <th>2</th>\n",
       "      <td>2020-01-03</td>\n",
       "      <td>4331020.0</td>\n",
       "    </tr>\n",
       "    <tr>\n",
       "      <th>3</th>\n",
       "      <td>2020-01-04</td>\n",
       "      <td>3450572.0</td>\n",
       "    </tr>\n",
       "    <tr>\n",
       "      <th>4</th>\n",
       "      <td>2020-01-05</td>\n",
       "      <td>2931486.0</td>\n",
       "    </tr>\n",
       "  </tbody>\n",
       "</table>\n",
       "</div>"
      ],
      "text/plain": [
       "         FDIA         ID\n",
       "0  2020-01-01  2850036.0\n",
       "1  2020-01-02  4552200.0\n",
       "2  2020-01-03  4331020.0\n",
       "3  2020-01-04  3450572.0\n",
       "4  2020-01-05  2931486.0"
      ]
     },
     "execution_count": 16,
     "metadata": {},
     "output_type": "execute_result"
    }
   ],
   "source": [
    "# leemos el archivo 3.\n",
    "datos = pd.read_csv('TrafMadrid60.csv')\n",
    "datos.head()"
   ]
  },
  {
   "cell_type": "code",
   "execution_count": 17,
   "metadata": {},
   "outputs": [
    {
     "name": "stdout",
     "output_type": "stream",
     "text": [
      "Cantidad de filas: 578\n",
      "Cantidad de columnas: 2\n",
      "----------------------------------------------------------------------------------------------------\n",
      "Columna: FDIA\n",
      "Tipo de datos: nominal\n",
      "Descripción de valores:\n",
      "-- Valores presentes (10 primeros): ['2020-01-01' '2020-01-02' '2020-01-03' '2020-01-04' '2020-01-05'\n",
      " '2020-01-06' '2020-01-07' '2020-01-08' '2020-01-09' '2020-01-10']\n",
      "-- Cantidad de nulos: 0 = 0.00%\n",
      "----------------------------------------------------------------------------------------------------\n",
      "Columna: ID\n",
      "Tipo de datos: numérico\n",
      "Descripción de valores:\n",
      "min       1.490220e+05\n",
      "max       5.055650e+06\n",
      "mean      1.747499e+06\n",
      "std       8.526286e+05\n",
      "median    1.856031e+06\n",
      "Name: ID, dtype: float64\n",
      "----------------------------------------------------------------------------------------------------\n"
     ]
    }
   ],
   "source": [
    "descripcionDatosDataset(datos)"
   ]
  },
  {
   "cell_type": "code",
   "execution_count": null,
   "metadata": {},
   "outputs": [],
   "source": []
  }
 ],
 "metadata": {
  "kernelspec": {
   "display_name": "Python 3",
   "language": "python",
   "name": "python3"
  },
  "language_info": {
   "codemirror_mode": {
    "name": "ipython",
    "version": 3
   },
   "file_extension": ".py",
   "mimetype": "text/x-python",
   "name": "python",
   "nbconvert_exporter": "python",
   "pygments_lexer": "ipython3",
   "version": "3.8.3"
  }
 },
 "nbformat": 4,
 "nbformat_minor": 4
}
