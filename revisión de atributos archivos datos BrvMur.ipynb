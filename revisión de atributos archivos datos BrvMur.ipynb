{
 "cells": [
  {
   "cell_type": "markdown",
   "metadata": {},
   "source": [
    "### Atributos de Archivos de datos recopilados. \n",
    "### Tráfico calle Bravo Murillo.\n"
   ]
  },
  {
   "cell_type": "code",
   "execution_count": 1,
   "metadata": {},
   "outputs": [],
   "source": [
    "## revisamos los atributos de los datos. Trafico de Calle Bravo Murillo. E19.\n",
    "import pandas as pd\n",
    "import numpy as np\n",
    "%matplotlib inline"
   ]
  },
  {
   "cell_type": "code",
   "execution_count": 2,
   "metadata": {},
   "outputs": [
    {
     "data": {
      "text/html": [
       "<div>\n",
       "<style scoped>\n",
       "    .dataframe tbody tr th:only-of-type {\n",
       "        vertical-align: middle;\n",
       "    }\n",
       "\n",
       "    .dataframe tbody tr th {\n",
       "        vertical-align: top;\n",
       "    }\n",
       "\n",
       "    .dataframe thead th {\n",
       "        text-align: right;\n",
       "    }\n",
       "</style>\n",
       "<table border=\"1\" class=\"dataframe\">\n",
       "  <thead>\n",
       "    <tr style=\"text-align: right;\">\n",
       "      <th></th>\n",
       "      <th>FDIA</th>\n",
       "      <th>ID</th>\n",
       "    </tr>\n",
       "  </thead>\n",
       "  <tbody>\n",
       "    <tr>\n",
       "      <th>0</th>\n",
       "      <td>2020-01-01</td>\n",
       "      <td>18396.0</td>\n",
       "    </tr>\n",
       "    <tr>\n",
       "      <th>1</th>\n",
       "      <td>2020-01-02</td>\n",
       "      <td>30960.0</td>\n",
       "    </tr>\n",
       "    <tr>\n",
       "      <th>2</th>\n",
       "      <td>2020-01-03</td>\n",
       "      <td>32810.0</td>\n",
       "    </tr>\n",
       "    <tr>\n",
       "      <th>3</th>\n",
       "      <td>2020-01-04</td>\n",
       "      <td>25920.0</td>\n",
       "    </tr>\n",
       "    <tr>\n",
       "      <th>4</th>\n",
       "      <td>2020-01-05</td>\n",
       "      <td>31078.0</td>\n",
       "    </tr>\n",
       "  </tbody>\n",
       "</table>\n",
       "</div>"
      ],
      "text/plain": [
       "         FDIA       ID\n",
       "0  2020-01-01  18396.0\n",
       "1  2020-01-02  30960.0\n",
       "2  2020-01-03  32810.0\n",
       "3  2020-01-04  25920.0\n",
       "4  2020-01-05  31078.0"
      ]
     },
     "execution_count": 2,
     "metadata": {},
     "output_type": "execute_result"
    }
   ],
   "source": [
    "# leemos el archivo 4.\n",
    "datos = pd.read_csv('TrafE19BrMur1.csv')\n",
    "datos.head()"
   ]
  },
  {
   "cell_type": "code",
   "execution_count": 3,
   "metadata": {},
   "outputs": [],
   "source": [
    "def descripcionDatosDataset(datos):\n",
    "    print(\"Cantidad de filas:\", datos.shape[0])\n",
    "    print(\"Cantidad de columnas:\", datos.shape[1])\n",
    "    print('-'*100)\n",
    "    for columna in datos.columns:\n",
    "        valoresDescripcion = ''\n",
    "        tipo = ''\n",
    "        if datos[columna].dtype == 'float64' or datos[columna].dtype == 'int64':\n",
    "            tipo = 'numérico'\n",
    "            valoresDescripcion = datos[columna].agg(['min', 'max', 'mean', 'std', 'median'])\n",
    "        else:\n",
    "            tipo = 'nominal' #categórico | string | no-numérico\n",
    "            valoresDescripcion = {'valoresPresentes' : datos[columna].unique(), \n",
    "                                  'cantidadNulos' : datos[columna].isna().sum()}\n",
    "                                 #'conteoValores' : pd.value_counts(datos[columna])}\n",
    "        print('Columna: ' + columna)\n",
    "        print('Tipo de datos: ' + tipo)\n",
    "        print('Descripción de valores:')\n",
    "        if tipo == 'numérico':\n",
    "            print(valoresDescripcion)\n",
    "        else:\n",
    "            print('-- Valores presentes (10 primeros): ' + str(valoresDescripcion['valoresPresentes'][:10]))\n",
    "            pctNulos = (valoresDescripcion['cantidadNulos'] / datos.shape[0]) * 100\n",
    "            print('-- Cantidad de nulos: ' + str(valoresDescripcion['cantidadNulos']) + ' = ' + \"{0:.2f}\".format(pctNulos) + '%')\n",
    "        print('-'*100)"
   ]
  },
  {
   "cell_type": "code",
   "execution_count": 4,
   "metadata": {},
   "outputs": [
    {
     "name": "stdout",
     "output_type": "stream",
     "text": [
      "Cantidad de filas: 578\n",
      "Cantidad de columnas: 2\n",
      "----------------------------------------------------------------------------------------------------\n",
      "Columna: FDIA\n",
      "Tipo de datos: nominal\n",
      "Descripción de valores:\n",
      "-- Valores presentes (10 primeros): ['2020-01-01' '2020-01-02' '2020-01-03' '2020-01-04' '2020-01-05'\n",
      " '2020-01-06' '2020-01-07' '2020-01-08' '2020-01-09' '2020-01-10']\n",
      "-- Cantidad de nulos: 0 = 0.00%\n",
      "----------------------------------------------------------------------------------------------------\n",
      "Columna: ID\n",
      "Tipo de datos: numérico\n",
      "Descripción de valores:\n",
      "min          93.000000\n",
      "max       39666.000000\n",
      "mean      12568.432526\n",
      "std        6472.346649\n",
      "median    12761.500000\n",
      "Name: ID, dtype: float64\n",
      "----------------------------------------------------------------------------------------------------\n"
     ]
    }
   ],
   "source": [
    "descripcionDatosDataset(datos)"
   ]
  },
  {
   "cell_type": "code",
   "execution_count": 8,
   "metadata": {},
   "outputs": [
    {
     "data": {
      "text/html": [
       "<div>\n",
       "<style scoped>\n",
       "    .dataframe tbody tr th:only-of-type {\n",
       "        vertical-align: middle;\n",
       "    }\n",
       "\n",
       "    .dataframe tbody tr th {\n",
       "        vertical-align: top;\n",
       "    }\n",
       "\n",
       "    .dataframe thead th {\n",
       "        text-align: right;\n",
       "    }\n",
       "</style>\n",
       "<table border=\"1\" class=\"dataframe\">\n",
       "  <thead>\n",
       "    <tr style=\"text-align: right;\">\n",
       "      <th></th>\n",
       "      <th>time</th>\n",
       "      <th>value</th>\n",
       "    </tr>\n",
       "  </thead>\n",
       "  <tbody>\n",
       "    <tr>\n",
       "      <th>0</th>\n",
       "      <td>2021-06-01 1:00</td>\n",
       "      <td>51.0</td>\n",
       "    </tr>\n",
       "    <tr>\n",
       "      <th>1</th>\n",
       "      <td>2021-06-01 2:00</td>\n",
       "      <td>14.0</td>\n",
       "    </tr>\n",
       "    <tr>\n",
       "      <th>2</th>\n",
       "      <td>2021-06-01 3:00</td>\n",
       "      <td>10.0</td>\n",
       "    </tr>\n",
       "    <tr>\n",
       "      <th>3</th>\n",
       "      <td>2021-06-01 4:00</td>\n",
       "      <td>6.0</td>\n",
       "    </tr>\n",
       "    <tr>\n",
       "      <th>4</th>\n",
       "      <td>2021-06-01 5:00</td>\n",
       "      <td>7.0</td>\n",
       "    </tr>\n",
       "  </tbody>\n",
       "</table>\n",
       "</div>"
      ],
      "text/plain": [
       "              time  value\n",
       "0  2021-06-01 1:00   51.0\n",
       "1  2021-06-01 2:00   14.0\n",
       "2  2021-06-01 3:00   10.0\n",
       "3  2021-06-01 4:00    6.0\n",
       "4  2021-06-01 5:00    7.0"
      ]
     },
     "execution_count": 8,
     "metadata": {},
     "output_type": "execute_result"
    }
   ],
   "source": [
    "# leemos el archivo 5.\n",
    "datos = pd.read_csv('TrafhorasE19BrMur1sentv6.csv')\n",
    "datos.head()"
   ]
  },
  {
   "cell_type": "code",
   "execution_count": 9,
   "metadata": {},
   "outputs": [
    {
     "name": "stdout",
     "output_type": "stream",
     "text": [
      "Cantidad de filas: 1464\n",
      "Cantidad de columnas: 2\n",
      "----------------------------------------------------------------------------------------------------\n",
      "Columna: time\n",
      "Tipo de datos: nominal\n",
      "Descripción de valores:\n",
      "-- Valores presentes (10 primeros): ['2021-06-01 1:00' '2021-06-01 2:00' '2021-06-01 3:00' '2021-06-01 4:00'\n",
      " '2021-06-01 5:00' '2021-06-01 6:00' '2021-06-01 7:00' '2021-06-01 8:00'\n",
      " '2021-06-01 9:00' '2021-06-01 10:00']\n",
      "-- Cantidad de nulos: 0 = 0.00%\n",
      "----------------------------------------------------------------------------------------------------\n",
      "Columna: value\n",
      "Tipo de datos: numérico\n",
      "Descripción de valores:\n",
      "min          5.000000\n",
      "max       1116.000000\n",
      "mean       451.989754\n",
      "std        271.814903\n",
      "median     477.000000\n",
      "Name: value, dtype: float64\n",
      "----------------------------------------------------------------------------------------------------\n"
     ]
    }
   ],
   "source": [
    "descripcionDatosDataset(datos)"
   ]
  },
  {
   "cell_type": "code",
   "execution_count": null,
   "metadata": {},
   "outputs": [],
   "source": []
  }
 ],
 "metadata": {
  "kernelspec": {
   "display_name": "Python 3",
   "language": "python",
   "name": "python3"
  },
  "language_info": {
   "codemirror_mode": {
    "name": "ipython",
    "version": 3
   },
   "file_extension": ".py",
   "mimetype": "text/x-python",
   "name": "python",
   "nbconvert_exporter": "python",
   "pygments_lexer": "ipython3",
   "version": "3.8.3"
  }
 },
 "nbformat": 4,
 "nbformat_minor": 4
}
